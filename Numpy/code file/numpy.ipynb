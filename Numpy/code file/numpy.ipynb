{
 "cells": [
  {
   "cell_type": "code",
   "execution_count": 1,
   "id": "4f5164d3",
   "metadata": {},
   "outputs": [],
   "source": [
    "import numpy as np"
   ]
  },
  {
   "cell_type": "code",
   "execution_count": 2,
   "id": "cc8a74ea",
   "metadata": {},
   "outputs": [
    {
     "name": "stdout",
     "output_type": "stream",
     "text": [
      "[1 2 3 4 5]\n"
     ]
    }
   ],
   "source": [
    "a=np.array([1,2,3,4,5]) #to create array\n",
    "print(a)\n"
   ]
  },
  {
   "cell_type": "code",
   "execution_count": 3,
   "id": "d6800e64",
   "metadata": {},
   "outputs": [
    {
     "name": "stdout",
     "output_type": "stream",
     "text": [
      "array a:[1 2 3 4 5]\n"
     ]
    }
   ],
   "source": [
    "print(f\"array a:{a}\") #formating"
   ]
  },
  {
   "cell_type": "code",
   "execution_count": 4,
   "id": "e4c8909d",
   "metadata": {},
   "outputs": [
    {
     "name": "stdout",
     "output_type": "stream",
     "text": [
      "ndim:1\n",
      "size:5\n",
      "shape:(5,)\n",
      "dtype:int32\n",
      "itemsize:4\n"
     ]
    }
   ],
   "source": [
    "print(f\"ndim:{a.ndim}\") #dimension of array\n",
    "print(f\"size:{a.size}\") #give size of array\n",
    "print(f\"shape:{a.shape}\") #shpae of array\n",
    "print(f\"dtype:{a.dtype}\") #datatype of array\n",
    "print(f\"itemsize:{a.itemsize}\") #give size of single element"
   ]
  },
  {
   "cell_type": "code",
   "execution_count": 5,
   "id": "9452cdff",
   "metadata": {},
   "outputs": [
    {
     "name": "stdout",
     "output_type": "stream",
     "text": [
      "[[1 2 3]\n",
      " [4 5 6]]\n"
     ]
    }
   ],
   "source": [
    "b=np.array([[1,2,3],[4,5,6]]) #create two dimension array\n",
    "print(b)"
   ]
  },
  {
   "cell_type": "code",
   "execution_count": 6,
   "id": "2bc336f7",
   "metadata": {},
   "outputs": [
    {
     "name": "stdout",
     "output_type": "stream",
     "text": [
      "ndim:2\n",
      "size:6\n",
      "shape:(2, 3)\n",
      "dtype:int32\n",
      "itemsize:4\n"
     ]
    }
   ],
   "source": [
    "print(f\"ndim:{b.ndim}\")\n",
    "print(f\"size:{b.size}\")\n",
    "print(f\"shape:{b.shape}\")\n",
    "print(f\"dtype:{b.dtype}\")\n",
    "print(f\"itemsize:{b.itemsize}\")"
   ]
  },
  {
   "cell_type": "code",
   "execution_count": 7,
   "id": "413da21a",
   "metadata": {},
   "outputs": [
    {
     "name": "stdout",
     "output_type": "stream",
     "text": [
      "[ 2  4  6  8 10]\n",
      "[1. 1. 1. 1. 1.]\n",
      "[1 2 3 4 5]\n",
      "[0 0 0 0 0]\n",
      "[0 0 0 0 0]\n",
      "[   1    4   27  256 3125]\n",
      "[0 0 0 0 0]\n"
     ]
    }
   ],
   "source": [
    "c=np.array([1,2,3,4,5])\n",
    "d=np.add(a,c) #add data of array\n",
    "e=np.divide(a,c) #divide data of array\n",
    "f=np.absolute(a,c) #absolute value of data \n",
    "g=np.subtract(a,c) #substract data \n",
    "h=np.remainder(a,c) #give reminder value \n",
    "i=np.power(a,c) #power of data\n",
    "j=np.mod(a,c) #mode of data\n",
    "print(d)\n",
    "print(e)\n",
    "print(f)\n",
    "print(g)\n",
    "print(h)\n",
    "print(i)\n",
    "print(j)"
   ]
  },
  {
   "cell_type": "code",
   "execution_count": 8,
   "id": "f0b65247",
   "metadata": {},
   "outputs": [
    {
     "name": "stdout",
     "output_type": "stream",
     "text": [
      "ndim:1\n",
      "size:3\n",
      "shape:(3,)\n",
      "dtype:<U7\n",
      "itemsize:28\n"
     ]
    }
   ],
   "source": [
    "a=np.array(['dhruva','dhyey','devansi'])\n",
    "c=np.array(['madhavi','remansi','aayush'])\n",
    "print(f\"ndim:{a.ndim}\")\n",
    "print(f\"size:{a.size}\")\n",
    "print(f\"shape:{a.shape}\")\n",
    "print(f\"dtype:{a.dtype}\")\n",
    "print(f\"itemsize:{a.itemsize}\")"
   ]
  },
  {
   "cell_type": "code",
   "execution_count": 9,
   "id": "f30c1750",
   "metadata": {},
   "outputs": [
    {
     "name": "stdout",
     "output_type": "stream",
     "text": [
      "[[0. 0.]\n",
      " [0. 0.]]\n",
      "[[1. 1. 1. 1.]\n",
      " [1. 1. 1. 1.]]\n",
      "[[0. 0.]\n",
      " [0. 0.]]\n",
      "[ 2  4  6  8 10 12 14 16 18 20 22 24 26]\n",
      "[1. 3. 5.]\n"
     ]
    }
   ],
   "source": [
    "z=np.zeros((2,2)) #create 2x2 array with zeros\n",
    "print(z)\n",
    "z=np.ones((2,4)) #create 2x4 array with all value as 1\n",
    "print(z)\n",
    "z=np.empty((2,2)) #create 2x2 array with empty value\n",
    "print(z)\n",
    "z=np.arange(2,28,2) #create array between lower and upper limit \n",
    "print(z)\n",
    "z=np.linspace(1,5,3) #crete 3 element array between 1 to 5\n",
    "print(z)"
   ]
  },
  {
   "cell_type": "code",
   "execution_count": 10,
   "id": "21c4dffd",
   "metadata": {},
   "outputs": [
    {
     "name": "stdout",
     "output_type": "stream",
     "text": [
      "[[2 3 4]\n",
      " [6 7 8]]\n",
      "8\n",
      "[[2 4]\n",
      " [6 8]]\n"
     ]
    }
   ],
   "source": [
    "a=np.array([[2,3,4],[6,7,8]])\n",
    "print(a)\n",
    "siced_arr=a[1,2] #slice array\n",
    "print(siced_arr)\n",
    "siced_arr=a[:2,::2]\n",
    "print(siced_arr)"
   ]
  },
  {
   "cell_type": "code",
   "execution_count": 11,
   "id": "dc63e0a6",
   "metadata": {},
   "outputs": [
    {
     "name": "stdout",
     "output_type": "stream",
     "text": [
      "[6 3]\n"
     ]
    }
   ],
   "source": [
    "i=a[[1,0],[0,1]] #create arry based on given index\n",
    "print(i)"
   ]
  },
  {
   "cell_type": "code",
   "execution_count": 12,
   "id": "43411fcc",
   "metadata": {},
   "outputs": [
    {
     "name": "stdout",
     "output_type": "stream",
     "text": [
      "30\n",
      "[[1.41421356 1.73205081 2.        ]\n",
      " [2.44948974 2.64575131 2.82842712]]\n"
     ]
    }
   ],
   "source": [
    "print(a.sum()) #add all element of array\n",
    "print(np.sqrt(a)) #find sqrt of data "
   ]
  },
  {
   "cell_type": "code",
   "execution_count": 13,
   "id": "8a51b0ec",
   "metadata": {},
   "outputs": [
    {
     "name": "stdout",
     "output_type": "stream",
     "text": [
      "[[ 8  9 10]\n",
      " [12 13 14]]\n"
     ]
    }
   ],
   "source": [
    "b=a+6 #add specific value in existing vale \n",
    "print(b)"
   ]
  },
  {
   "cell_type": "code",
   "execution_count": 14,
   "id": "0d3847ac",
   "metadata": {},
   "outputs": [
    {
     "name": "stdout",
     "output_type": "stream",
     "text": [
      "[[ 36  42  24]\n",
      " [ 81  96  63]\n",
      " [126 150 102]]\n"
     ]
    }
   ],
   "source": [
    "m1=np.array([[1,2,3],[4,5,6],[7,8,9]])\n",
    "m2=np.array([[2,3,4],[5,6,7],[8,9,2]])\n",
    "m3=np.dot(m1,m2) #multiply two matrix\n",
    "print(m3)"
   ]
  },
  {
   "cell_type": "code",
   "execution_count": 15,
   "id": "3623d946",
   "metadata": {},
   "outputs": [
    {
     "name": "stdout",
     "output_type": "stream",
     "text": [
      "True\n",
      "False\n",
      "[ True False]\n",
      "[ True False]\n"
     ]
    }
   ],
   "source": [
    "print(np.all(m1))\n",
    "bool=np.array([[True,True],[True,False]])\n",
    "print(np.all(bool)) #use to check and condition\n",
    "print(np.all(bool,axis=0)) #check condition row wise\n",
    "print(np.all(bool,axis=1)) #check condition column wise"
   ]
  },
  {
   "cell_type": "code",
   "execution_count": 16,
   "id": "e297c7a1",
   "metadata": {},
   "outputs": [
    {
     "name": "stdout",
     "output_type": "stream",
     "text": [
      "True\n",
      "[ True  True]\n",
      "[ True  True]\n"
     ]
    }
   ],
   "source": [
    "bool=np.array([[True,True],[True,False]])\n",
    "print(np.any(bool)) #use to check or condition\n",
    "print(np.any(bool,axis=0)) #check condition row wise\n",
    "print(np.any(bool,axis=1)) #check condition column wise"
   ]
  },
  {
   "cell_type": "code",
   "execution_count": 17,
   "id": "740c04d5",
   "metadata": {},
   "outputs": [
    {
     "name": "stdout",
     "output_type": "stream",
     "text": [
      "[0 1 2 3 4 5 6 7 8]\n",
      "[[0 1 2]\n",
      " [3 4 5]\n",
      " [6 7 8]]\n"
     ]
    }
   ],
   "source": [
    "a=np.arange(9)\n",
    "print(a)\n",
    "re=a.reshape(3,3)  #to reshape the existing array\n",
    "print(re)"
   ]
  },
  {
   "cell_type": "code",
   "execution_count": 18,
   "id": "f2d6d892",
   "metadata": {},
   "outputs": [
    {
     "name": "stdout",
     "output_type": "stream",
     "text": [
      "[[1 2 3]\n",
      " [4 5 6]\n",
      " [7 8 9]]\n",
      "[[2 3 4]\n",
      " [5 6 7]\n",
      " [8 9 2]]\n",
      "[[ 36  42  24]\n",
      " [ 81  96  63]\n",
      " [126 150 102]]\n"
     ]
    }
   ],
   "source": [
    "print(m1)\n",
    "print(m2)\n",
    "print(m3)"
   ]
  },
  {
   "cell_type": "code",
   "execution_count": 20,
   "id": "7ce51c0f",
   "metadata": {},
   "outputs": [
    {
     "name": "stdout",
     "output_type": "stream",
     "text": [
      "[[  1   2   3]\n",
      " [  4   5   6]\n",
      " [  7   8   9]\n",
      " [  2   3   4]\n",
      " [  5   6   7]\n",
      " [  8   9   2]\n",
      " [ 36  42  24]\n",
      " [ 81  96  63]\n",
      " [126 150 102]]\n",
      "[[  1   2   3   2   3   4  36  42  24]\n",
      " [  4   5   6   5   6   7  81  96  63]\n",
      " [  7   8   9   8   9   2 126 150 102]]\n"
     ]
    }
   ],
   "source": [
    "h=np.vstack((m1,m2,m3)) #merge array vertically\n",
    "print(h)\n",
    "h=np.hstack((m1,m2,m3)) #merge array horizontally\n",
    "print(h)"
   ]
  },
  {
   "cell_type": "code",
   "execution_count": 21,
   "id": "e4d1766b",
   "metadata": {},
   "outputs": [
    {
     "name": "stdout",
     "output_type": "stream",
     "text": [
      "[array([[1, 2, 3],\n",
      "       [4, 5, 6],\n",
      "       [7, 8, 9]]), array([[2, 3, 4],\n",
      "       [5, 6, 7],\n",
      "       [8, 9, 2]]), array([[ 36,  42,  24],\n",
      "       [ 81,  96,  63],\n",
      "       [126, 150, 102]])]\n",
      "[array([[ 1,  2,  3,  2,  3,  4, 36, 42, 24]]), array([[ 4,  5,  6,  5,  6,  7, 81, 96, 63]]), array([[  7,   8,   9,   8,   9,   2, 126, 150, 102]])]\n"
     ]
    }
   ],
   "source": [
    "hsplit=np.hsplit(h,3)#split array vertically\n",
    "print(hsplit)\n",
    "vsplit=np.vsplit(h,3)#split array horizontally\n",
    "print(vsplit)"
   ]
  },
  {
   "cell_type": "code",
   "execution_count": 22,
   "id": "816c0c92",
   "metadata": {},
   "outputs": [
    {
     "name": "stdout",
     "output_type": "stream",
     "text": [
      "sqrt: [[2.82842712 3.         3.16227766]\n",
      " [3.46410162 3.60555128 3.74165739]]\n",
      "sin: [[ 0.98935825  0.41211849 -0.54402111]\n",
      " [-0.53657292  0.42016704  0.99060736]]\n",
      "cos: [[-0.14550003 -0.91113026 -0.83907153]\n",
      " [ 0.84385396  0.90744678  0.13673722]]\n",
      "log: [[2.07944154 2.19722458 2.30258509]\n",
      " [2.48490665 2.56494936 2.63905733]]\n",
      "sum: 66\n",
      "std: 2.160246899469287\n"
     ]
    }
   ],
   "source": [
    "print(\"sqrt:\",np.sqrt(b))\n",
    "print(\"sin:\",np.sin(b))\n",
    "print(\"cos:\",np.cos(b))\n",
    "print(\"log:\",np.log(b))\n",
    "print(\"sum:\",np.sum(b))\n",
    "print(\"std:\",np.std(b))"
   ]
  },
  {
   "cell_type": "code",
   "execution_count": null,
   "id": "ae06aeef",
   "metadata": {},
   "outputs": [],
   "source": []
  }
 ],
 "metadata": {
  "kernelspec": {
   "display_name": "Python 3 (ipykernel)",
   "language": "python",
   "name": "python3"
  },
  "language_info": {
   "codemirror_mode": {
    "name": "ipython",
    "version": 3
   },
   "file_extension": ".py",
   "mimetype": "text/x-python",
   "name": "python",
   "nbconvert_exporter": "python",
   "pygments_lexer": "ipython3",
   "version": "3.9.12"
  }
 },
 "nbformat": 4,
 "nbformat_minor": 5
}
