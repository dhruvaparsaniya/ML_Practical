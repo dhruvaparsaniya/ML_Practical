{
 "cells": [
  {
   "cell_type": "code",
   "execution_count": 15,
   "id": "aaaea780",
   "metadata": {},
   "outputs": [
    {
     "name": "stdout",
     "output_type": "stream",
     "text": [
      "     Unnamed: 0    #                   Name   Type 1  Type 2  Total  HP  \\\n",
      "0             0    1              Bulbasaur    Grass  Poison    318  45   \n",
      "1             1    2                Ivysaur    Grass  Poison    405  60   \n",
      "2             2    3               Venusaur    Grass  Poison    525  80   \n",
      "3             3    3  VenusaurMega Venusaur    Grass  Poison    625  80   \n",
      "4             4    4             Charmander     Fire     NaN    309  39   \n",
      "..          ...  ...                    ...      ...     ...    ...  ..   \n",
      "795         795  719                Diancie     Rock   Fairy    600  50   \n",
      "796         796  719    DiancieMega Diancie     Rock   Fairy    700  50   \n",
      "797         797  720    HoopaHoopa Confined  Psychic   Ghost    600  80   \n",
      "798         798  720     HoopaHoopa Unbound  Psychic    Dark    680  80   \n",
      "799         799  721              Volcanion     Fire   Water    600  80   \n",
      "\n",
      "     Attack  Defense  Sp. Atk  Sp. Def  Speed  Generation  Legendary    avg  \n",
      "0        49       49       65       65     45           1      False   71.5  \n",
      "1        62       63       80       80     60           1      False   92.5  \n",
      "2        82       83      100      100     80           1      False  122.5  \n",
      "3       100      123      122      120     80           1      False  151.5  \n",
      "4        52       43       60       50     65           1      False   67.0  \n",
      "..      ...      ...      ...      ...    ...         ...        ...    ...  \n",
      "795     100      150      100      150     50           6       True  150.0  \n",
      "796     160      110      160      110    110           6       True  160.0  \n",
      "797     110       60      150      130     70           6       True  125.0  \n",
      "798     160       60      170      130     80           6       True  150.0  \n",
      "799     110      120      130       90     70           6       True  155.0  \n",
      "\n",
      "[800 rows x 15 columns]\n"
     ]
    },
    {
     "data": {
      "text/html": [
       "<div>\n",
       "<style scoped>\n",
       "    .dataframe tbody tr th:only-of-type {\n",
       "        vertical-align: middle;\n",
       "    }\n",
       "\n",
       "    .dataframe tbody tr th {\n",
       "        vertical-align: top;\n",
       "    }\n",
       "\n",
       "    .dataframe thead th {\n",
       "        text-align: right;\n",
       "    }\n",
       "</style>\n",
       "<table border=\"1\" class=\"dataframe\">\n",
       "  <thead>\n",
       "    <tr style=\"text-align: right;\">\n",
       "      <th></th>\n",
       "      <th>Unnamed: 0</th>\n",
       "      <th>#</th>\n",
       "      <th>Name</th>\n",
       "      <th>Type 1</th>\n",
       "      <th>Type 2</th>\n",
       "      <th>Total</th>\n",
       "      <th>HP</th>\n",
       "      <th>Attack</th>\n",
       "      <th>Defense</th>\n",
       "      <th>Sp. Atk</th>\n",
       "      <th>Sp. Def</th>\n",
       "      <th>Speed</th>\n",
       "      <th>Generation</th>\n",
       "      <th>Legendary</th>\n",
       "      <th>avg</th>\n",
       "      <th>avg1</th>\n",
       "    </tr>\n",
       "  </thead>\n",
       "  <tbody>\n",
       "    <tr>\n",
       "      <th>0</th>\n",
       "      <td>0</td>\n",
       "      <td>1</td>\n",
       "      <td>Bulbasaur</td>\n",
       "      <td>Grass</td>\n",
       "      <td>Poison</td>\n",
       "      <td>318</td>\n",
       "      <td>45</td>\n",
       "      <td>49</td>\n",
       "      <td>49</td>\n",
       "      <td>65</td>\n",
       "      <td>65</td>\n",
       "      <td>45</td>\n",
       "      <td>1</td>\n",
       "      <td>False</td>\n",
       "      <td>71.5</td>\n",
       "      <td>71.5</td>\n",
       "    </tr>\n",
       "    <tr>\n",
       "      <th>1</th>\n",
       "      <td>1</td>\n",
       "      <td>2</td>\n",
       "      <td>Ivysaur</td>\n",
       "      <td>Grass</td>\n",
       "      <td>Poison</td>\n",
       "      <td>405</td>\n",
       "      <td>60</td>\n",
       "      <td>62</td>\n",
       "      <td>63</td>\n",
       "      <td>80</td>\n",
       "      <td>80</td>\n",
       "      <td>60</td>\n",
       "      <td>1</td>\n",
       "      <td>False</td>\n",
       "      <td>92.5</td>\n",
       "      <td>92.5</td>\n",
       "    </tr>\n",
       "    <tr>\n",
       "      <th>2</th>\n",
       "      <td>2</td>\n",
       "      <td>3</td>\n",
       "      <td>Venusaur</td>\n",
       "      <td>Grass</td>\n",
       "      <td>Poison</td>\n",
       "      <td>525</td>\n",
       "      <td>80</td>\n",
       "      <td>82</td>\n",
       "      <td>83</td>\n",
       "      <td>100</td>\n",
       "      <td>100</td>\n",
       "      <td>80</td>\n",
       "      <td>1</td>\n",
       "      <td>False</td>\n",
       "      <td>122.5</td>\n",
       "      <td>122.5</td>\n",
       "    </tr>\n",
       "    <tr>\n",
       "      <th>3</th>\n",
       "      <td>3</td>\n",
       "      <td>3</td>\n",
       "      <td>VenusaurMega Venusaur</td>\n",
       "      <td>Grass</td>\n",
       "      <td>Poison</td>\n",
       "      <td>625</td>\n",
       "      <td>80</td>\n",
       "      <td>100</td>\n",
       "      <td>123</td>\n",
       "      <td>122</td>\n",
       "      <td>120</td>\n",
       "      <td>80</td>\n",
       "      <td>1</td>\n",
       "      <td>False</td>\n",
       "      <td>151.5</td>\n",
       "      <td>151.5</td>\n",
       "    </tr>\n",
       "    <tr>\n",
       "      <th>4</th>\n",
       "      <td>4</td>\n",
       "      <td>4</td>\n",
       "      <td>Charmander</td>\n",
       "      <td>Fire</td>\n",
       "      <td>NaN</td>\n",
       "      <td>309</td>\n",
       "      <td>39</td>\n",
       "      <td>52</td>\n",
       "      <td>43</td>\n",
       "      <td>60</td>\n",
       "      <td>50</td>\n",
       "      <td>65</td>\n",
       "      <td>1</td>\n",
       "      <td>False</td>\n",
       "      <td>67.0</td>\n",
       "      <td>67.0</td>\n",
       "    </tr>\n",
       "  </tbody>\n",
       "</table>\n",
       "</div>"
      ],
      "text/plain": [
       "   Unnamed: 0  #                   Name Type 1  Type 2  Total  HP  Attack  \\\n",
       "0           0  1              Bulbasaur  Grass  Poison    318  45      49   \n",
       "1           1  2                Ivysaur  Grass  Poison    405  60      62   \n",
       "2           2  3               Venusaur  Grass  Poison    525  80      82   \n",
       "3           3  3  VenusaurMega Venusaur  Grass  Poison    625  80     100   \n",
       "4           4  4             Charmander   Fire     NaN    309  39      52   \n",
       "\n",
       "   Defense  Sp. Atk  Sp. Def  Speed  Generation  Legendary    avg   avg1  \n",
       "0       49       65       65     45           1      False   71.5   71.5  \n",
       "1       63       80       80     60           1      False   92.5   92.5  \n",
       "2       83      100      100     80           1      False  122.5  122.5  \n",
       "3      123      122      120     80           1      False  151.5  151.5  \n",
       "4       43       60       50     65           1      False   67.0   67.0  "
      ]
     },
     "execution_count": 15,
     "metadata": {},
     "output_type": "execute_result"
    }
   ],
   "source": [
    "import pandas as pd\n",
    "\n",
    "pk=pd.read_csv(\"pokemon.csv\")\n",
    "print(pk)\n",
    "\n",
    "pk['avg1']=(pk['HP']+pk['Attack']+pk['Defense'])/2 #create new colum named avg with average value of this field\n",
    "pk.head(5)"
   ]
  },
  {
   "cell_type": "code",
   "execution_count": 2,
   "id": "8b46ae9f",
   "metadata": {},
   "outputs": [
    {
     "name": "stdout",
     "output_type": "stream",
     "text": [
      "435.1025\n",
      "450.0\n",
      "0    100\n",
      "Name: Attack, dtype: int64\n"
     ]
    }
   ],
   "source": [
    "m=pk[\"Total\"].mean() #give mean of data\n",
    "print(m)\n",
    "m=pk[\"Total\"].median() #give median of data \n",
    "print(m)\n",
    "m=pk[\"Attack\"].mode() #give mode of data\n",
    "print(m)"
   ]
  },
  {
   "cell_type": "code",
   "execution_count": 3,
   "id": "c509ce2c",
   "metadata": {},
   "outputs": [
    {
     "name": "stdout",
     "output_type": "stream",
     "text": [
      "   Unnamed: 0  #                   Name Type 1  Type 2  Total  HP  Attack  \\\n",
      "0           0  1              Bulbasaur  Grass  Poison    318  45      49   \n",
      "1           1  2                Ivysaur  Grass  Poison    405  60      62   \n",
      "2           2  3               Venusaur  Grass  Poison    525  80      82   \n",
      "3           3  3  VenusaurMega Venusaur  Grass  Poison    625  80     100   \n",
      "4           4  4             Charmander   Fire     NaN    309  39      52   \n",
      "\n",
      "   Defense  Sp. Atk  Sp. Def  Speed  Generation  Legendary    avg  \n",
      "0       49       65       65     45           1      False   71.5  \n",
      "1       63       80       80     60           1      False   92.5  \n",
      "2       83      100      100     80           1      False  122.5  \n",
      "3      123      122      120     80           1      False  151.5  \n",
      "4       43       60       50     65           1      False   67.0  \n"
     ]
    }
   ],
   "source": [
    "print(pk.head())#to fetch first 5 records"
   ]
  },
  {
   "cell_type": "code",
   "execution_count": 4,
   "id": "b0657a83",
   "metadata": {},
   "outputs": [
    {
     "name": "stdout",
     "output_type": "stream",
     "text": [
      "     Unnamed: 0    #                 Name   Type 1 Type 2  Total  HP  Attack  \\\n",
      "795         795  719              Diancie     Rock  Fairy    600  50     100   \n",
      "796         796  719  DiancieMega Diancie     Rock  Fairy    700  50     160   \n",
      "797         797  720  HoopaHoopa Confined  Psychic  Ghost    600  80     110   \n",
      "798         798  720   HoopaHoopa Unbound  Psychic   Dark    680  80     160   \n",
      "799         799  721            Volcanion     Fire  Water    600  80     110   \n",
      "\n",
      "     Defense  Sp. Atk  Sp. Def  Speed  Generation  Legendary    avg  \n",
      "795      150      100      150     50           6       True  150.0  \n",
      "796      110      160      110    110           6       True  160.0  \n",
      "797       60      150      130     70           6       True  125.0  \n",
      "798       60      170      130     80           6       True  150.0  \n",
      "799      120      130       90     70           6       True  155.0  \n"
     ]
    }
   ],
   "source": [
    "print(pk.tail())#to fetch last 5 records"
   ]
  },
  {
   "cell_type": "code",
   "execution_count": 5,
   "id": "af5c1192",
   "metadata": {},
   "outputs": [
    {
     "name": "stdout",
     "output_type": "stream",
     "text": [
      "Unnamed: 0           2\n",
      "#                    3\n",
      "Name          Venusaur\n",
      "Type 1           Grass\n",
      "Type 2          Poison\n",
      "Total              525\n",
      "HP                  80\n",
      "Attack              82\n",
      "Defense             83\n",
      "Sp. Atk            100\n",
      "Sp. Def            100\n",
      "Speed               80\n",
      "Generation           1\n",
      "Legendary        False\n",
      "avg              122.5\n",
      "Name: 2, dtype: object\n"
     ]
    }
   ],
   "source": [
    "print(pk.loc[2])#to fetch single row"
   ]
  },
  {
   "cell_type": "code",
   "execution_count": 6,
   "id": "21444c9b",
   "metadata": {},
   "outputs": [
    {
     "name": "stdout",
     "output_type": "stream",
     "text": [
      "<bound method DataFrame.info of      Unnamed: 0    #                   Name   Type 1  Type 2  Total  HP  \\\n",
      "0             0    1              Bulbasaur    Grass  Poison    318  45   \n",
      "1             1    2                Ivysaur    Grass  Poison    405  60   \n",
      "2             2    3               Venusaur    Grass  Poison    525  80   \n",
      "3             3    3  VenusaurMega Venusaur    Grass  Poison    625  80   \n",
      "4             4    4             Charmander     Fire     NaN    309  39   \n",
      "..          ...  ...                    ...      ...     ...    ...  ..   \n",
      "795         795  719                Diancie     Rock   Fairy    600  50   \n",
      "796         796  719    DiancieMega Diancie     Rock   Fairy    700  50   \n",
      "797         797  720    HoopaHoopa Confined  Psychic   Ghost    600  80   \n",
      "798         798  720     HoopaHoopa Unbound  Psychic    Dark    680  80   \n",
      "799         799  721              Volcanion     Fire   Water    600  80   \n",
      "\n",
      "     Attack  Defense  Sp. Atk  Sp. Def  Speed  Generation  Legendary    avg  \n",
      "0        49       49       65       65     45           1      False   71.5  \n",
      "1        62       63       80       80     60           1      False   92.5  \n",
      "2        82       83      100      100     80           1      False  122.5  \n",
      "3       100      123      122      120     80           1      False  151.5  \n",
      "4        52       43       60       50     65           1      False   67.0  \n",
      "..      ...      ...      ...      ...    ...         ...        ...    ...  \n",
      "795     100      150      100      150     50           6       True  150.0  \n",
      "796     160      110      160      110    110           6       True  160.0  \n",
      "797     110       60      150      130     70           6       True  125.0  \n",
      "798     160       60      170      130     80           6       True  150.0  \n",
      "799     110      120      130       90     70           6       True  155.0  \n",
      "\n",
      "[800 rows x 15 columns]>\n"
     ]
    }
   ],
   "source": [
    "print(pk.info)"
   ]
  },
  {
   "cell_type": "code",
   "execution_count": 7,
   "id": "933c131f",
   "metadata": {},
   "outputs": [
    {
     "name": "stdout",
     "output_type": "stream",
     "text": [
      "   Unnamed: 0  #       Name Type 1  Type 2  Total  HP  Attack  Defense  \\\n",
      "0           0  1  Bulbasaur  Grass  Poison    318  45      49       49   \n",
      "1           1  2    Ivysaur  Grass  Poison    405  60      62       63   \n",
      "\n",
      "   Sp. Atk  Sp. Def  Speed  Generation  Legendary   avg  \n",
      "0       65       65     45           1      False  71.5  \n",
      "1       80       80     60           1      False  92.5  \n"
     ]
    }
   ],
   "source": [
    "d=pk.iloc[0:2]#fetch specific rows \n",
    "print(d)"
   ]
  },
  {
   "cell_type": "code",
   "execution_count": 8,
   "id": "00a437ff",
   "metadata": {},
   "outputs": [
    {
     "name": "stdout",
     "output_type": "stream",
     "text": [
      "     Unnamed: 0    #                   Name   Type 1  Type 2  Total  HP  \\\n",
      "0             0    1              Bulbasaur    Grass  Poison    318  45   \n",
      "1             1    2                Ivysaur    Grass  Poison    405  60   \n",
      "2             2    3               Venusaur    Grass  Poison    525  80   \n",
      "3             3    3  VenusaurMega Venusaur    Grass  Poison    625  80   \n",
      "6             6    6              Charizard     Fire  Flying    534  78   \n",
      "..          ...  ...                    ...      ...     ...    ...  ..   \n",
      "795         795  719                Diancie     Rock   Fairy    600  50   \n",
      "796         796  719    DiancieMega Diancie     Rock   Fairy    700  50   \n",
      "797         797  720    HoopaHoopa Confined  Psychic   Ghost    600  80   \n",
      "798         798  720     HoopaHoopa Unbound  Psychic    Dark    680  80   \n",
      "799         799  721              Volcanion     Fire   Water    600  80   \n",
      "\n",
      "     Attack  Defense  Sp. Atk  Sp. Def  Speed  Generation  Legendary    avg  \n",
      "0        49       49       65       65     45           1      False   71.5  \n",
      "1        62       63       80       80     60           1      False   92.5  \n",
      "2        82       83      100      100     80           1      False  122.5  \n",
      "3       100      123      122      120     80           1      False  151.5  \n",
      "6        84       78      109       85    100           1      False  120.0  \n",
      "..      ...      ...      ...      ...    ...         ...        ...    ...  \n",
      "795     100      150      100      150     50           6       True  150.0  \n",
      "796     160      110      160      110    110           6       True  160.0  \n",
      "797     110       60      150      130     70           6       True  125.0  \n",
      "798     160       60      170      130     80           6       True  150.0  \n",
      "799     110      120      130       90     70           6       True  155.0  \n",
      "\n",
      "[414 rows x 15 columns]\n"
     ]
    }
   ],
   "source": [
    "newstd_data=pk.dropna()#to remove null value\n",
    "print(newstd_data)"
   ]
  },
  {
   "cell_type": "code",
   "execution_count": 10,
   "id": "d9688e2e",
   "metadata": {},
   "outputs": [
    {
     "name": "stdout",
     "output_type": "stream",
     "text": [
      "None\n"
     ]
    }
   ],
   "source": [
    "newstd_data=pk.fillna(10,inplace=True)#fill null value with 10\n",
    "print(newstd_data)"
   ]
  },
  {
   "cell_type": "code",
   "execution_count": 11,
   "id": "c63c4e38",
   "metadata": {},
   "outputs": [
    {
     "name": "stdout",
     "output_type": "stream",
     "text": [
      "0       71.5\n",
      "1       92.5\n",
      "2      122.5\n",
      "3      151.5\n",
      "4       67.0\n",
      "       ...  \n",
      "795    150.0\n",
      "796    160.0\n",
      "797    125.0\n",
      "798    150.0\n",
      "799    155.0\n",
      "Name: avg, Length: 800, dtype: float64\n"
     ]
    }
   ],
   "source": [
    "new=pk[\"avg\"].fillna(\"90.33\")#to change specific colum with null value\n",
    "print(new)"
   ]
  },
  {
   "cell_type": "code",
   "execution_count": 13,
   "id": "e447031c",
   "metadata": {},
   "outputs": [
    {
     "name": "stdout",
     "output_type": "stream",
     "text": [
      "None\n"
     ]
    }
   ],
   "source": [
    "new=pk[\"Total\"].fillna(\"90\",inplace=True)#modify data in same object(modify object) (update data in std_data variable) \n",
    "print(new)"
   ]
  },
  {
   "cell_type": "code",
   "execution_count": 16,
   "id": "3f513ecd",
   "metadata": {},
   "outputs": [],
   "source": [
    "pk.to_csv('pokemon.csv')#toupdate original file"
   ]
  },
  {
   "cell_type": "code",
   "execution_count": 17,
   "id": "f2f06c33",
   "metadata": {},
   "outputs": [
    {
     "data": {
      "text/html": [
       "<div>\n",
       "<style scoped>\n",
       "    .dataframe tbody tr th:only-of-type {\n",
       "        vertical-align: middle;\n",
       "    }\n",
       "\n",
       "    .dataframe tbody tr th {\n",
       "        vertical-align: top;\n",
       "    }\n",
       "\n",
       "    .dataframe thead th {\n",
       "        text-align: right;\n",
       "    }\n",
       "</style>\n",
       "<table border=\"1\" class=\"dataframe\">\n",
       "  <thead>\n",
       "    <tr style=\"text-align: right;\">\n",
       "      <th></th>\n",
       "      <th>Unnamed: 0</th>\n",
       "      <th>#</th>\n",
       "      <th>Name</th>\n",
       "      <th>Type 1</th>\n",
       "      <th>Type 2</th>\n",
       "      <th>Total</th>\n",
       "      <th>HP</th>\n",
       "      <th>Attack</th>\n",
       "      <th>Defense</th>\n",
       "      <th>Sp. Atk</th>\n",
       "      <th>Sp. Def</th>\n",
       "      <th>Speed</th>\n",
       "      <th>Generation</th>\n",
       "      <th>Legendary</th>\n",
       "      <th>avg</th>\n",
       "      <th>avg1</th>\n",
       "    </tr>\n",
       "  </thead>\n",
       "  <tbody>\n",
       "    <tr>\n",
       "      <th>206</th>\n",
       "      <td>206</td>\n",
       "      <td>191</td>\n",
       "      <td>Sunkern</td>\n",
       "      <td>Grass</td>\n",
       "      <td>NaN</td>\n",
       "      <td>180</td>\n",
       "      <td>30</td>\n",
       "      <td>30</td>\n",
       "      <td>30</td>\n",
       "      <td>30</td>\n",
       "      <td>30</td>\n",
       "      <td>30</td>\n",
       "      <td>2</td>\n",
       "      <td>False</td>\n",
       "      <td>45.0</td>\n",
       "      <td>45.0</td>\n",
       "    </tr>\n",
       "    <tr>\n",
       "      <th>322</th>\n",
       "      <td>322</td>\n",
       "      <td>298</td>\n",
       "      <td>Azurill</td>\n",
       "      <td>Normal</td>\n",
       "      <td>Fairy</td>\n",
       "      <td>190</td>\n",
       "      <td>50</td>\n",
       "      <td>20</td>\n",
       "      <td>40</td>\n",
       "      <td>20</td>\n",
       "      <td>40</td>\n",
       "      <td>20</td>\n",
       "      <td>3</td>\n",
       "      <td>False</td>\n",
       "      <td>55.0</td>\n",
       "      <td>55.0</td>\n",
       "    </tr>\n",
       "    <tr>\n",
       "      <th>446</th>\n",
       "      <td>446</td>\n",
       "      <td>401</td>\n",
       "      <td>Kricketot</td>\n",
       "      <td>Bug</td>\n",
       "      <td>NaN</td>\n",
       "      <td>194</td>\n",
       "      <td>37</td>\n",
       "      <td>25</td>\n",
       "      <td>41</td>\n",
       "      <td>25</td>\n",
       "      <td>41</td>\n",
       "      <td>25</td>\n",
       "      <td>4</td>\n",
       "      <td>False</td>\n",
       "      <td>51.5</td>\n",
       "      <td>51.5</td>\n",
       "    </tr>\n",
       "    <tr>\n",
       "      <th>288</th>\n",
       "      <td>288</td>\n",
       "      <td>265</td>\n",
       "      <td>Wurmple</td>\n",
       "      <td>Bug</td>\n",
       "      <td>NaN</td>\n",
       "      <td>195</td>\n",
       "      <td>45</td>\n",
       "      <td>45</td>\n",
       "      <td>35</td>\n",
       "      <td>20</td>\n",
       "      <td>30</td>\n",
       "      <td>20</td>\n",
       "      <td>3</td>\n",
       "      <td>False</td>\n",
       "      <td>62.5</td>\n",
       "      <td>62.5</td>\n",
       "    </tr>\n",
       "    <tr>\n",
       "      <th>16</th>\n",
       "      <td>16</td>\n",
       "      <td>13</td>\n",
       "      <td>Weedle</td>\n",
       "      <td>Bug</td>\n",
       "      <td>Poison</td>\n",
       "      <td>195</td>\n",
       "      <td>40</td>\n",
       "      <td>35</td>\n",
       "      <td>30</td>\n",
       "      <td>20</td>\n",
       "      <td>20</td>\n",
       "      <td>50</td>\n",
       "      <td>1</td>\n",
       "      <td>False</td>\n",
       "      <td>52.5</td>\n",
       "      <td>52.5</td>\n",
       "    </tr>\n",
       "    <tr>\n",
       "      <th>...</th>\n",
       "      <td>...</td>\n",
       "      <td>...</td>\n",
       "      <td>...</td>\n",
       "      <td>...</td>\n",
       "      <td>...</td>\n",
       "      <td>...</td>\n",
       "      <td>...</td>\n",
       "      <td>...</td>\n",
       "      <td>...</td>\n",
       "      <td>...</td>\n",
       "      <td>...</td>\n",
       "      <td>...</td>\n",
       "      <td>...</td>\n",
       "      <td>...</td>\n",
       "      <td>...</td>\n",
       "      <td>...</td>\n",
       "    </tr>\n",
       "    <tr>\n",
       "      <th>424</th>\n",
       "      <td>424</td>\n",
       "      <td>383</td>\n",
       "      <td>GroudonPrimal Groudon</td>\n",
       "      <td>Ground</td>\n",
       "      <td>Fire</td>\n",
       "      <td>770</td>\n",
       "      <td>100</td>\n",
       "      <td>180</td>\n",
       "      <td>160</td>\n",
       "      <td>150</td>\n",
       "      <td>90</td>\n",
       "      <td>90</td>\n",
       "      <td>3</td>\n",
       "      <td>True</td>\n",
       "      <td>220.0</td>\n",
       "      <td>220.0</td>\n",
       "    </tr>\n",
       "    <tr>\n",
       "      <th>422</th>\n",
       "      <td>422</td>\n",
       "      <td>382</td>\n",
       "      <td>KyogrePrimal Kyogre</td>\n",
       "      <td>Water</td>\n",
       "      <td>NaN</td>\n",
       "      <td>770</td>\n",
       "      <td>100</td>\n",
       "      <td>150</td>\n",
       "      <td>90</td>\n",
       "      <td>180</td>\n",
       "      <td>160</td>\n",
       "      <td>90</td>\n",
       "      <td>3</td>\n",
       "      <td>True</td>\n",
       "      <td>170.0</td>\n",
       "      <td>170.0</td>\n",
       "    </tr>\n",
       "    <tr>\n",
       "      <th>164</th>\n",
       "      <td>164</td>\n",
       "      <td>150</td>\n",
       "      <td>MewtwoMega Mewtwo Y</td>\n",
       "      <td>Psychic</td>\n",
       "      <td>NaN</td>\n",
       "      <td>780</td>\n",
       "      <td>106</td>\n",
       "      <td>150</td>\n",
       "      <td>70</td>\n",
       "      <td>194</td>\n",
       "      <td>120</td>\n",
       "      <td>140</td>\n",
       "      <td>1</td>\n",
       "      <td>True</td>\n",
       "      <td>163.0</td>\n",
       "      <td>163.0</td>\n",
       "    </tr>\n",
       "    <tr>\n",
       "      <th>426</th>\n",
       "      <td>426</td>\n",
       "      <td>384</td>\n",
       "      <td>RayquazaMega Rayquaza</td>\n",
       "      <td>Dragon</td>\n",
       "      <td>Flying</td>\n",
       "      <td>780</td>\n",
       "      <td>105</td>\n",
       "      <td>180</td>\n",
       "      <td>100</td>\n",
       "      <td>180</td>\n",
       "      <td>100</td>\n",
       "      <td>115</td>\n",
       "      <td>3</td>\n",
       "      <td>True</td>\n",
       "      <td>192.5</td>\n",
       "      <td>192.5</td>\n",
       "    </tr>\n",
       "    <tr>\n",
       "      <th>163</th>\n",
       "      <td>163</td>\n",
       "      <td>150</td>\n",
       "      <td>MewtwoMega Mewtwo X</td>\n",
       "      <td>Psychic</td>\n",
       "      <td>Fighting</td>\n",
       "      <td>780</td>\n",
       "      <td>106</td>\n",
       "      <td>190</td>\n",
       "      <td>100</td>\n",
       "      <td>154</td>\n",
       "      <td>100</td>\n",
       "      <td>130</td>\n",
       "      <td>1</td>\n",
       "      <td>True</td>\n",
       "      <td>198.0</td>\n",
       "      <td>198.0</td>\n",
       "    </tr>\n",
       "  </tbody>\n",
       "</table>\n",
       "<p>800 rows × 16 columns</p>\n",
       "</div>"
      ],
      "text/plain": [
       "     Unnamed: 0    #                   Name   Type 1    Type 2  Total   HP  \\\n",
       "206         206  191                Sunkern    Grass       NaN    180   30   \n",
       "322         322  298                Azurill   Normal     Fairy    190   50   \n",
       "446         446  401              Kricketot      Bug       NaN    194   37   \n",
       "288         288  265                Wurmple      Bug       NaN    195   45   \n",
       "16           16   13                 Weedle      Bug    Poison    195   40   \n",
       "..          ...  ...                    ...      ...       ...    ...  ...   \n",
       "424         424  383  GroudonPrimal Groudon   Ground      Fire    770  100   \n",
       "422         422  382    KyogrePrimal Kyogre    Water       NaN    770  100   \n",
       "164         164  150    MewtwoMega Mewtwo Y  Psychic       NaN    780  106   \n",
       "426         426  384  RayquazaMega Rayquaza   Dragon    Flying    780  105   \n",
       "163         163  150    MewtwoMega Mewtwo X  Psychic  Fighting    780  106   \n",
       "\n",
       "     Attack  Defense  Sp. Atk  Sp. Def  Speed  Generation  Legendary    avg  \\\n",
       "206      30       30       30       30     30           2      False   45.0   \n",
       "322      20       40       20       40     20           3      False   55.0   \n",
       "446      25       41       25       41     25           4      False   51.5   \n",
       "288      45       35       20       30     20           3      False   62.5   \n",
       "16       35       30       20       20     50           1      False   52.5   \n",
       "..      ...      ...      ...      ...    ...         ...        ...    ...   \n",
       "424     180      160      150       90     90           3       True  220.0   \n",
       "422     150       90      180      160     90           3       True  170.0   \n",
       "164     150       70      194      120    140           1       True  163.0   \n",
       "426     180      100      180      100    115           3       True  192.5   \n",
       "163     190      100      154      100    130           1       True  198.0   \n",
       "\n",
       "      avg1  \n",
       "206   45.0  \n",
       "322   55.0  \n",
       "446   51.5  \n",
       "288   62.5  \n",
       "16    52.5  \n",
       "..     ...  \n",
       "424  220.0  \n",
       "422  170.0  \n",
       "164  163.0  \n",
       "426  192.5  \n",
       "163  198.0  \n",
       "\n",
       "[800 rows x 16 columns]"
      ]
     },
     "execution_count": 17,
     "metadata": {},
     "output_type": "execute_result"
    }
   ],
   "source": [
    "pk.sort_values(['Total'],ascending=1)# to sort data in asending order 1-for ascending and 0-for desending"
   ]
  },
  {
   "cell_type": "code",
   "execution_count": 18,
   "id": "8cbb58e9",
   "metadata": {},
   "outputs": [
    {
     "ename": "NameError",
     "evalue": "name 'plt' is not defined",
     "output_type": "error",
     "traceback": [
      "\u001b[0;31m---------------------------------------------------------------------------\u001b[0m",
      "\u001b[0;31mNameError\u001b[0m                                 Traceback (most recent call last)",
      "Input \u001b[0;32mIn [18]\u001b[0m, in \u001b[0;36m<cell line: 2>\u001b[0;34m()\u001b[0m\n\u001b[1;32m      1\u001b[0m pk\u001b[38;5;241m.\u001b[39mplot()\u001b[38;5;66;03m#to create visual presentation of data\u001b[39;00m\n\u001b[0;32m----> 2\u001b[0m \u001b[43mplt\u001b[49m\u001b[38;5;241m.\u001b[39mshow()\n",
      "\u001b[0;31mNameError\u001b[0m: name 'plt' is not defined"
     ]
    },
    {
     "data": {
      "image/png": "[encoded data removed]",
      "text/plain": [
       "<Figure size 432x288 with 1 Axes>"
      ]
     },
     "metadata": {
      "needs_background": "light"
     },
     "output_type": "display_data"
    }
   ],
   "source": [
    "pk.plot()#to create visual presentation of data\n",
    "plt.show() "
   ]
  },
  {
   "cell_type": "code",
   "execution_count": 19,
   "id": "bf0051e7",
   "metadata": {},
   "outputs": [
    {
     "ename": "NameError",
     "evalue": "name 'plt' is not defined",
     "output_type": "error",
     "traceback": [
      "\u001b[0;31m---------------------------------------------------------------------------\u001b[0m",
      "\u001b[0;31mNameError\u001b[0m                                 Traceback (most recent call last)",
      "Input \u001b[0;32mIn [19]\u001b[0m, in \u001b[0;36m<cell line: 2>\u001b[0;34m()\u001b[0m\n\u001b[1;32m      1\u001b[0m pk\u001b[38;5;241m.\u001b[39mplot(kind\u001b[38;5;241m=\u001b[39m\u001b[38;5;124m\"\u001b[39m\u001b[38;5;124mscatter\u001b[39m\u001b[38;5;124m\"\u001b[39m,x\u001b[38;5;241m=\u001b[39m\u001b[38;5;124m'\u001b[39m\u001b[38;5;124mName\u001b[39m\u001b[38;5;124m'\u001b[39m,y\u001b[38;5;241m=\u001b[39m\u001b[38;5;124m'\u001b[39m\u001b[38;5;124mTotal\u001b[39m\u001b[38;5;124m'\u001b[39m)\n\u001b[0;32m----> 2\u001b[0m \u001b[43mplt\u001b[49m\u001b[38;5;241m.\u001b[39mshow()\n",
      "\u001b[0;31mNameError\u001b[0m: name 'plt' is not defined"
     ]
    },
    {
     "data": {
      "image/png": "[encoded data removed]",
      "text/plain": [
       "<Figure size 432x288 with 1 Axes>"
      ]
     },
     "metadata": {
      "needs_background": "light"
     },
     "output_type": "display_data"
    }
   ],
   "source": [
    "pk.plot(kind=\"scatter\",x='Name',y='Total')\n",
    "plt.show()"
   ]
  },
  {
   "cell_type": "code",
   "execution_count": 20,
   "id": "ec4d1aae",
   "metadata": {},
   "outputs": [
    {
     "data": {
      "text/plain": [
       "<AxesSubplot:ylabel='Frequency'>"
      ]
     },
     "execution_count": 20,
     "metadata": {},
     "output_type": "execute_result"
    },
    {
     "data": {
      "image/png": "[encoded data removed]",
      "text/plain": [
       "<Figure size 432x288 with 1 Axes>"
      ]
     },
     "metadata": {
      "needs_background": "light"
     },
     "output_type": "display_data"
    }
   ],
   "source": [
    "pk['avg'].plot(kind='hist')#kind use to define type"
   ]
  },
  {
   "cell_type": "code",
   "execution_count": 23,
   "id": "fe4df5d3",
   "metadata": {},
   "outputs": [
    {
     "name": "stdout",
     "output_type": "stream",
     "text": [
      "[10, 20, 30, 40, 50]\n",
      "40\n",
      "11    10\n",
      "12    20\n",
      "13    30\n",
      "14    40\n",
      "15    50\n",
      "dtype: int64\n",
      "30\n"
     ]
    }
   ],
   "source": [
    "a=[10,20,30,40,50]\n",
    "s1=pd.Series(a,index=[\"11\",\"12\",\"13\",\"14\",\"15\"]) #to change index\n",
    "print(a)\n",
    "print(a[3])#display data of third index\n",
    "print(s1)\n",
    "print(s1[\"13\"]) #to find specific index"
   ]
  },
  {
   "cell_type": "code",
   "execution_count": 24,
   "id": "2aa55428",
   "metadata": {},
   "outputs": [
    {
     "name": "stdout",
     "output_type": "stream",
     "text": [
      "{'AIML': 4, 'CCN': 4, 'WS': 3, 'CS': 4}\n",
      "AIML    4\n",
      "CCN     4\n",
      "WS      3\n",
      "CS      4\n",
      "dtype: int64\n",
      "4\n"
     ]
    }
   ],
   "source": [
    "keyval={\"AIML\":4,\"CCN\":4,\"WS\":3,\"CS\":4}\n",
    "print(keyval)\n",
    "key=pd.Series(keyval)\n",
    "print(key)\n",
    "print(key[\"CCN\"])"
   ]
  },
  {
   "cell_type": "code",
   "execution_count": 25,
   "id": "a9e3bead",
   "metadata": {},
   "outputs": [
    {
     "name": "stdout",
     "output_type": "stream",
     "text": [
      "{'student': ['aiml', 'ccn', 'ws', 'cs'], 'marks': [90, 89, 99, 98]}\n",
      "  student  marks\n",
      "0    aiml     90\n",
      "1     ccn     89\n",
      "2      ws     99\n",
      "3      cs     98\n",
      "student    cs\n",
      "marks      98\n",
      "Name: 3, dtype: object\n"
     ]
    }
   ],
   "source": [
    "std={\"student\":[\"aiml\",\"ccn\",\"ws\",\"cs\"],\n",
    "    \"marks\":[90,89,99,98]}\n",
    "print(std)\n",
    "dfstd=pd.DataFrame(std)#to create data frame which store data in tabular formate\n",
    "print(dfstd)\n",
    "print(dfstd.loc[3])"
   ]
  },
  {
   "cell_type": "code",
   "execution_count": null,
   "id": "2a14e2cb",
   "metadata": {},
   "outputs": [],
   "source": []
  }
 ],
 "metadata": {
  "kernelspec": {
   "display_name": "Python 3 (ipykernel)",
   "language": "python",
   "name": "python3"
  },
  "language_info": {
   "codemirror_mode": {
    "name": "ipython",
    "version": 3
   },
   "file_extension": ".py",
   "mimetype": "text/x-python",
   "name": "python",
   "nbconvert_exporter": "python",
   "pygments_lexer": "ipython3",
   "version": "3.9.12"
  }
 },
 "nbformat": 4,
 "nbformat_minor": 5
}
